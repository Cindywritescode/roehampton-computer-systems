{
 "cells": [
  {
   "cell_type": "markdown",
   "id": "0883035c",
   "metadata": {},
   "source": [
    "# Boolean Algebra\n",
    "\n",
    "Learning more about Boolean algebra and functions.\n"
   ]
  },
  {
   "cell_type": "markdown",
   "id": "82a22ae8",
   "metadata": {},
   "source": [
    "# Karnaugh Map"
   ]
  },
  {
   "cell_type": "markdown",
   "id": "e950ee24",
   "metadata": {},
   "source": [
    "### Example 1\n",
    "\n",
    "Function given as\n",
    "\n",
    "```\n",
    "F(A,B,C) = (0,2,6,7)\n",
    "```\n",
    "\n",
    "represented as Karnaugh Map is\n",
    "\n",
    "| A-B / C | 0-0 | 1-0 | 1-1 | 0-1 |\n",
    "| :-: | :-: | :-: | :-: | :-: |\n",
    "| 0 | 1 | 0 | 1 | 1 |\n",
    "| 1 | 0 | 0 | 1 | 0 |\n"
   ]
  },
  {
   "cell_type": "code",
   "execution_count": 5,
   "id": "044d2d68",
   "metadata": {},
   "outputs": [
    {
     "data": {
      "text/plain": [
       "1"
      ]
     },
     "execution_count": 5,
     "metadata": {},
     "output_type": "execute_result"
    }
   ],
   "source": [
    "# Extended — Example 1\n",
    "\n",
    "# Is it raining outside?\n",
    "A = 0\n",
    "# Am I over 30?\n",
    "B = 0\n",
    "# Am I hungry?\n",
    "C = 0\n",
    "\n",
    "def F(A, B, C):\n",
    "    if (not A and not B and not C) or (A and B and not C) or (not A and B and not C) or (A and B and C):\n",
    "        return 1\n",
    "    else:\n",
    "        return 0\n",
    "    \n",
    "F(A, B, C)"
   ]
  },
  {
   "cell_type": "code",
   "execution_count": null,
   "id": "464fd331",
   "metadata": {},
   "outputs": [],
   "source": []
  }
 ],
 "metadata": {
  "kernelspec": {
   "display_name": "Python 3 (ipykernel)",
   "language": "python",
   "name": "python3"
  },
  "language_info": {
   "codemirror_mode": {
    "name": "ipython",
    "version": 3
   },
   "file_extension": ".py",
   "mimetype": "text/x-python",
   "name": "python",
   "nbconvert_exporter": "python",
   "pygments_lexer": "ipython3",
   "version": "3.9.7"
  }
 },
 "nbformat": 4,
 "nbformat_minor": 5
}
